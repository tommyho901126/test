{
 "cells": [
  {
   "cell_type": "code",
   "execution_count": 14,
   "metadata": {},
   "outputs": [
    {
     "name": "stdout",
     "output_type": "stream",
     "text": [
      "1.4142135623730951\n",
      "-1\n",
      "0x216 0o1026 0b1000010110\n",
      "3.142\n",
      "1.3903891703159093 1.3903891703159093\n",
      "3.141592653589793 2.718281828459045 3 nan -inf\n",
      "-8 2\n"
     ]
    }
   ],
   "source": [
    "print(abs(1+1j))\n",
    "print(min(1,2,3,4,5,-1))\n",
    "a=534\n",
    "print(hex(a),oct(a),bin(a))\n",
    "print(round(3.14159,3))#有效位數??\n",
    "print(pow(3,0.3),3**0.3)\n",
    "e=3\n",
    "import math\n",
    "print(math.pi,math.e,e,math.nan,-math.inf)\n",
    "print(math.ceil(-8.34),math.floor(abs(2+2j)))"
   ]
  },
  {
   "cell_type": "code",
   "execution_count": 30,
   "metadata": {},
   "outputs": [
    {
     "name": "stdout",
     "output_type": "stream",
     "text": [
      "10!= 3628800\n",
      "2000&2500's gcd: 500\n",
      "20.085536923187668\n",
      "log2= 0.6931471805599453\n",
      "log3 2= 0.6309297535714574\n",
      "6.708203932499369\n",
      "45.0\n",
      "0.24377809018587449\n"
     ]
    }
   ],
   "source": [
    "import math\n",
    "print(\"10!=\",math.factorial(10))\n",
    "print(\"2000&2500's gcd:\",math.gcd(2000,2500))\n",
    "print(math.exp(3))\n",
    "print(\"log2=\",math.log(2))\n",
    "print(\"log3 2=\",math.log(2,3))\n",
    "print(math.sqrt(45))\n",
    "print(math.degrees(math.acos(math.cos(math.radians(45)))))\n",
    "import random \n",
    "a=random.randint(-3,45)\n",
    "a=rd.random()\n",
    "print(a)"
   ]
  },
  {
   "cell_type": "code",
   "execution_count": 48,
   "metadata": {},
   "outputs": [
    {
     "name": "stdout",
     "output_type": "stream",
     "text": [
      "\"今天\"不優喔喔喔\b,\"\\b\"is delete\n",
      "99 嚸\n",
      "10 是\n",
      "我要來3次我要來3次我要來3次abcabc <class 'str'>\n",
      "False\n"
     ]
    }
   ],
   "source": [
    "print(\"\\\"今天\\\"不優喔喔喔\\b,\\\"\\\\b\\\"is delete\")\n",
    "a='c'\n",
    "print(ord(a),chr(22200))\n",
    "str=\"jijijij是我啦\"\n",
    "print(len(str),max(str))\n",
    "print(\"我要來3次\"*3+'abc'+\"abc\",type('abc'+\"abc\"))\n",
    "print(\"brown\" not in \"brown is a person\")"
   ]
  },
  {
   "cell_type": "code",
   "execution_count": null,
   "metadata": {},
   "outputs": [],
   "source": []
  }
 ],
 "metadata": {
  "kernelspec": {
   "display_name": "Python 3",
   "language": "python",
   "name": "python3"
  },
  "language_info": {
   "codemirror_mode": {
    "name": "ipython",
    "version": 3
   },
   "file_extension": ".py",
   "mimetype": "text/x-python",
   "name": "python",
   "nbconvert_exporter": "python",
   "pygments_lexer": "ipython3",
   "version": "3.6.11"
  }
 },
 "nbformat": 4,
 "nbformat_minor": 4
}
