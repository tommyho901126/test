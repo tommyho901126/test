{
 "cells": [
  {
   "cell_type": "code",
   "execution_count": 2,
   "metadata": {},
   "outputs": [
    {
     "name": "stdout",
     "output_type": "stream",
     "text": [
      "-12.3\n",
      "I am an apple\n",
      "I am an apple , however you are laplace\n",
      "<class 'float'>\n",
      "<class 'int'>\n",
      "-12\n"
     ]
    }
   ],
   "source": [
    "A=-12.3\n",
    "print (A);\n",
    "B=\"I am an apple\"\n",
    "print (B);\n",
    "C=\"laplace\"\n",
    "print(B, \", however you are\", C);# this is nonsense\n",
    "print(type(A))\n",
    "'''\n",
    "我是註解??\n",
    "yes\n",
    "now that count 1 to n\n",
    "'''\n",
    "#\n",
    "\"\"\"\n",
    "\"\"can also be 註解\n",
    "\"\"\"\n",
    "print(type(int(A)))\n",
    "print(int(A))"
   ]
  },
  {
   "cell_type": "code",
   "execution_count": 5,
   "metadata": {},
   "outputs": [
    {
     "name": "stdout",
     "output_type": "stream",
     "text": [
      "(1.2+2j)\n",
      "4095 158\n"
     ]
    }
   ],
   "source": [
    "print(1.2+2J)\n",
    "print(0XFFF,0o236)\n"
   ]
  },
  {
   "cell_type": "code",
   "execution_count": 6,
   "metadata": {},
   "outputs": [
    {
     "data": {
      "text/plain": [
       "sys.float_info(max=1.7976931348623157e+308, max_exp=1024, max_10_exp=308, min=2.2250738585072014e-308, min_exp=-1021, min_10_exp=-307, dig=15, mant_dig=53, epsilon=2.220446049250313e-16, radix=2, rounds=1)"
      ]
     },
     "execution_count": 6,
     "metadata": {},
     "output_type": "execute_result"
    }
   ],
   "source": [
    "import sys\n",
    "sys.float_info #這兩行顯示float的資訊"
   ]
  },
  {
   "cell_type": "code",
   "execution_count": 13,
   "metadata": {},
   "outputs": [
    {
     "name": "stdout",
     "output_type": "stream",
     "text": [
      "L's type: <class 'list'>    L[1]'s type: <class 'list'>\n",
      "<class 'tuple'>\n",
      "\n",
      " (1, 'str', 2)\n"
     ]
    }
   ],
   "source": [
    "L=[[],2,'a',\"nameko\"]\n",
    "print(\"L's type:\",type(L),\"   L[1]'s type:\",type(L[0]))\n",
    "a=(x,y,z)=(1,\"str\",2) #將最後一個資料指派給前面的變數\n",
    "print(type(a))\n",
    "print(\"\\n\",a)"
   ]
  },
  {
   "cell_type": "code",
   "execution_count": 17,
   "metadata": {},
   "outputs": [
    {
     "name": "stdout",
     "output_type": "stream",
     "text": [
      "0.6666666666666666 0\n",
      " 「2**3」is exponential: 8 \n",
      " 「2^3」 is XOR: 1\n"
     ]
    }
   ],
   "source": [
    "print(2/3,2//3)\n",
    "print(\" 「2**3」is exponential:\",2**3,\"\\n 「2^3」 is XOR:\",2^3)"
   ]
  },
  {
   "cell_type": "code",
   "execution_count": 20,
   "metadata": {},
   "outputs": [
    {
     "name": "stdout",
     "output_type": "stream",
     "text": [
      "True\n",
      "1\n",
      "11\n"
     ]
    }
   ],
   "source": [
    "print(\"ABC\"<\"abc\")\n",
    "print(int(bool(2)))\n",
    "# a=a+1 不行，要先用過\n",
    "a=5\n",
    "a+=a+1\n",
    "print(a)"
   ]
  },
  {
   "cell_type": "code",
   "execution_count": 2,
   "metadata": {},
   "outputs": [
    {
     "name": "stdout",
     "output_type": "stream",
     "text": [
      "1|2|3|4|5this is the show1 2 3 4 5\n",
      "n=??2**a\n",
      "2**a|||8\n"
     ]
    }
   ],
   "source": [
    "print(1,2,3,4,5,sep=\"|\",end=\"this is the show\")\n",
    "print(1,2,3,4,5)\n",
    "a=3;n=input(\"n=??\")\n",
    "print(n,eval(n),sep=\"|||\")"
   ]
  },
  {
   "cell_type": "code",
   "execution_count": 19,
   "metadata": {},
   "outputs": [
    {
     "name": "stdout",
     "output_type": "stream",
     "text": [
      "['2.0 3.0 4.0']\n",
      "['2.0 ', '3.0| 4.0'] <class 'list'>\n"
     ]
    }
   ],
   "source": [
    "a=\"2.0 3.0 4.0\"\n",
    "a=a.split(sep=\"|\",maxsplit=-1)\n",
    "print(a)\n",
    "a=\"2.0 |3.0| 4.0\"\n",
    "a=a.split(sep=\"|\",maxsplit=1)\n",
    "print(a,type(a))"
   ]
  },
  {
   "cell_type": "code",
   "execution_count": null,
   "metadata": {},
   "outputs": [],
   "source": []
  },
  {
   "cell_type": "code",
   "execution_count": null,
   "metadata": {},
   "outputs": [],
   "source": []
  }
 ],
 "metadata": {
  "kernelspec": {
   "display_name": "Python 3",
   "language": "python",
   "name": "python3"
  }
 },
 "nbformat": 4,
 "nbformat_minor": 2
}
